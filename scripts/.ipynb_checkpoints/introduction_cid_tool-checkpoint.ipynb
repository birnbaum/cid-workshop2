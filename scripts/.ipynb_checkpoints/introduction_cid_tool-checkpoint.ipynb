{
 "cells": [
  {
   "cell_type": "code",
   "execution_count": null,
   "metadata": {},
   "outputs": [],
   "source": [
    "%matplotlib inline\n",
    "\n",
    "from mosaic_cid_tool import mosaic_cid_tool\n",
    "import numpy as np\n",
    "import matplotlib.pyplot as plt\n",
    "import seaborn as sns"
   ]
  },
  {
   "cell_type": "markdown",
   "metadata": {},
   "source": [
    "# Introduction - mosaic_cid_tool\n",
    "\n",
    "Welcome! The next workshop is going to be built on Eclipse MOSAIC, and we decided to write a small Python package to help you analyze the simulation results. MOSAIC generates CSV outputs, which are (in our case) too time-consuming to be properly parsed and not particularly interesting to implement the parser.\n",
    "\n",
    "We highly recommend that you use this toolbox to analyze your simulations, especially during the workshop, and not waste valuable time on trying to implement something similar."
   ]
  },
  {
   "cell_type": "markdown",
   "metadata": {},
   "source": [
    "Initialize the object with path/to/mosaic and simulation name, in our case it is `'/home/onqi/Documents/eclipse_mosaic/'` and `Tiergarten`, respectively"
   ]
  },
  {
   "cell_type": "code",
   "execution_count": null,
   "metadata": {},
   "outputs": [],
   "source": [
    "sns.set()"
   ]
  },
  {
   "cell_type": "code",
   "execution_count": null,
   "metadata": {},
   "outputs": [],
   "source": [
    "mosaic = mosaic_cid_tool('/home/onqi/Documents/eclipse_mosaic/', 'Tiergarten')"
   ]
  },
  {
   "cell_type": "markdown",
   "metadata": {},
   "source": [
    "`mosaic.run_simulation()` will run the selected simulation and record the logs"
   ]
  },
  {
   "cell_type": "code",
   "execution_count": null,
   "metadata": {},
   "outputs": [],
   "source": [
    "!{mosaic.run_simulation(jupyter=True)}"
   ]
  },
  {
   "cell_type": "markdown",
   "metadata": {},
   "source": [
    "`mosaic.select_simulation_result(idx=0)` will generate DataFrame from the most recent simulation, idx=0 being the most recent, idx=1 the second most recent..."
   ]
  },
  {
   "cell_type": "code",
   "execution_count": null,
   "metadata": {},
   "outputs": [],
   "source": [
    "mosaic.select_simulation_result()"
   ]
  },
  {
   "cell_type": "markdown",
   "metadata": {},
   "source": [
    "## Handling the pd.DataFrame\n",
    "\n",
    "Eclipse MOSAIC generates the output as a comma-seperated values (CSV), which needs to be parsed in order to be analyzed easier. \n",
    "\n",
    "With `mosaic_cid_tool()`, we are providing you with some helper functions and filters to make data handling easier. Helper functions are `get_df_labels`, `get_df_events` and `get_df_apps`"
   ]
  },
  {
   "cell_type": "code",
   "execution_count": null,
   "metadata": {},
   "outputs": [],
   "source": [
    "mosaic.get_df_labels"
   ]
  },
  {
   "cell_type": "markdown",
   "metadata": {},
   "source": [
    "`get_df_labels` returns a list of the column labels, in pandas, they are referred to as **Fields**.Fields"
   ]
  },
  {
   "cell_type": "code",
   "execution_count": null,
   "metadata": {},
   "outputs": [],
   "source": [
    "mosaic.get_df_events"
   ]
  },
  {
   "cell_type": "markdown",
   "metadata": {},
   "source": [
    "`get_df_events` returns a list of the events registered by the simulator, you'll need a value from the above list to filter properly."
   ]
  },
  {
   "cell_type": "code",
   "execution_count": null,
   "metadata": {},
   "outputs": [],
   "source": [
    "mosaic.get_df_apps"
   ]
  },
  {
   "cell_type": "markdown",
   "metadata": {},
   "source": [
    "`get_df_apps` returns a list of all the executed applications during runtime, you'll also need a value from this list. For example, `rsu_0, tl_0, tl_1, tl_2, veh_0, veh_1, veh_2` or `veh_3`"
   ]
  },
  {
   "cell_type": "markdown",
   "metadata": {},
   "source": [
    "## Filtering pd.DataFrame\n",
    "\n",
    "Use the method `filter_df()` to filter the generated DataFrame w.r.t. event name, application name and fields.\n",
    "\n",
    "Here we are filtering using the event name `VEHICLE_UPDATES`, application names `veh_0`, `veh_1` and `veh_2`. We are not filtering any of the fields, i.e. we want them `all`\n",
    "\n",
    "You can select different fields by calling the DataFrame method of the corresponding field, for example `veh0.Speed` for the speed of Vehicle 0, or `veh1.PositionLatitude` for the latitudinal position of Vehicle 1.\n",
    "\n",
    "Please note that this is a barebones implementation, only providing the minimum to filter and access the data more easily. It is up to you to get creative with it and plot your own graphics!"
   ]
  },
  {
   "cell_type": "code",
   "execution_count": null,
   "metadata": {},
   "outputs": [],
   "source": [
    "veh0 = mosaic.filter_df('VEHICLE_UPDATES', 'veh_0', 'all')\n",
    "veh1 = mosaic.filter_df('VEHICLE_UPDATES', 'veh_1', 'all')\n",
    "veh2 = mosaic.filter_df('VEHICLE_UPDATES', 'veh_2', 'all')\n",
    "veh3 = mosaic.filter_df('VEHICLE_UPDATES', 'veh_3', 'all')"
   ]
  },
  {
   "cell_type": "code",
   "execution_count": null,
   "metadata": {},
   "outputs": [],
   "source": [
    "plt.plot(np.asfarray(veh0.Time), np.asfarray(veh0.Speed), label='veh0')\n",
    "plt.plot(np.asfarray(veh1.Time), np.asfarray(veh1.Speed), label='veh1')\n",
    "plt.plot(np.asfarray(veh2.Time), np.asfarray(veh2.Speed), label='veh2')\n",
    "plt.plot(np.asfarray(veh3.Time), np.asfarray(veh3.Speed), label='veh3')\n",
    "plt.title('Speed of Vehicle 0-1-2')\n",
    "plt.legend()"
   ]
  },
  {
   "cell_type": "code",
   "execution_count": null,
   "metadata": {},
   "outputs": [],
   "source": [
    "plt.figure()\n",
    "plt.scatter(np.asfarray(veh0.PositionLatitude),\n",
    "            np.asfarray(veh0.PositionLongitude),\n",
    "            linewidths=0.5,\n",
    "            label='veh0')\n",
    "plt.scatter(np.asfarray(veh1.PositionLatitude),\n",
    "            np.asfarray(veh1.PositionLongitude),\n",
    "            linewidths=0.5,\n",
    "            label='veh1')\n",
    "plt.scatter(np.asfarray(veh2.PositionLatitude),\n",
    "            np.asfarray(veh2.PositionLongitude),\n",
    "            linewidths=0.5,\n",
    "            label='veh2')\n",
    "plt.scatter(np.asfarray(veh3.PositionLatitude),\n",
    "            np.asfarray(veh3.PositionLongitude),\n",
    "            linewidths=0.5,\n",
    "            label='veh3')\n",
    "plt.title('Road Travelled - Vehicle 0-1-2')\n",
    "plt.legend()"
   ]
  },
  {
   "cell_type": "code",
   "execution_count": null,
   "metadata": {},
   "outputs": [],
   "source": []
  }
 ],
 "metadata": {
  "kernelspec": {
   "display_name": "Python 3",
   "language": "python",
   "name": "python3"
  },
  "language_info": {
   "codemirror_mode": {
    "name": "ipython",
    "version": 3
   },
   "file_extension": ".py",
   "mimetype": "text/x-python",
   "name": "python",
   "nbconvert_exporter": "python",
   "pygments_lexer": "ipython3",
   "version": "3.8.6"
  }
 },
 "nbformat": 4,
 "nbformat_minor": 4
}
