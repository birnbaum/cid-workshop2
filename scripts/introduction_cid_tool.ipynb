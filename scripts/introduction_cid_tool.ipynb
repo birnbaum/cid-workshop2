{
 "cells": [
  {
   "cell_type": "markdown",
   "metadata": {},
   "source": [
    "# Introduction - cid_mosaic\n",
    "\n",
    "Welcome!\n",
    "\n",
    "This notebook is intended as a preparation for the second workshop and it introduces a custom made Python class designed to help you analyze the simulation results from Eclipse MOSAIC.\n",
    "\n",
    "It can also be used to programmatically interact with the federate configurations.\n",
    "\n",
    "Make sure everything works before attending the workshop.\n",
    "\n",
    "For questions, troubleshooting and bugs please reach me (Ongun Türkcüoglu) via email: ongun.turkcuoglu@campus.tu-berlin.de "
   ]
  },
  {
   "cell_type": "markdown",
   "metadata": {},
   "source": [
    "Lets start by importing several modules we will need for our analysis!\n",
    "\n",
    "Hint: You can display the documentation by highlighting the object/method and pressing Shift+Tab"
   ]
  },
  {
   "cell_type": "code",
   "execution_count": 1,
   "metadata": {},
   "outputs": [],
   "source": [
    "%matplotlib inline\n",
    "\n",
    "from cid_mosaic import cid_mosaic\n",
    "import numpy as np\n",
    "import matplotlib\n",
    "import matplotlib.pyplot as plt\n",
    "import seaborn as sns\n",
    "\n",
    "# Init seaborn for pretty plots\n",
    "sns.set()\n",
    "\n",
    "# Larger plots\n",
    "matplotlib.rcParams['figure.figsize'] = [15, 5]"
   ]
  },
  {
   "cell_type": "markdown",
   "metadata": {},
   "source": [
    "Create an object `cid_mosaic()` and initialize the object using the path to Eclipse MOSAIC and simulation name, i.e. `'/home/onqi/Documents/eclipse_mosaic/'` and `'Tiergarten'`.\n",
    "\n",
    "Third parameter is a boolean value, which should be `True` if you have a UNIX system and `False` is you have Windows running."
   ]
  },
  {
   "cell_type": "code",
   "execution_count": 2,
   "metadata": {},
   "outputs": [],
   "source": [
    "mosaic = cid_mosaic('/home/onqi/Documents/eclipse_mosaic/', 'Tiergarten')"
   ]
  },
  {
   "cell_type": "markdown",
   "metadata": {},
   "source": [
    "The method `run_simulation()` will run the selected simulation and display the terminal output in the notebook.\n",
    "\n",
    "If you are not using a Jupyter notebook, set the boolean parameter to `False`"
   ]
  },
  {
   "cell_type": "code",
   "execution_count": 3,
   "metadata": {},
   "outputs": [
    {
     "name": "stdout",
     "output_type": "stream",
     "text": [
      "Opening in existing browser session.\n",
      "2021-06-15 11:38:14,687 INFO  ROOT - Running Eclipse MOSAIC 21.0 on Java JRE v11.0.11 (AdoptOpenJDK)\n",
      "2021-06-15 11:38:14,927 INFO  FederationManagement - Start federation with id 'Tiergarten'\n",
      "2021-06-15 11:38:14,928 INFO  FederationManagement - Add ambassador/federate with id 'application'\n",
      "2021-06-15 11:38:14,929 INFO  FederationManagement - Add ambassador/federate with id 'environment'\n",
      "2021-06-15 11:38:14,929 INFO  FederationManagement - Add ambassador/federate with id 'mapping'\n",
      "2021-06-15 11:38:14,929 INFO  FederationManagement - Add ambassador/federate with id 'sns'\n",
      "2021-06-15 11:38:14,929 INFO  FederationManagement - Add ambassador/federate with id 'sumo'\n",
      "2021-06-15 11:38:14,929 INFO  FederationManagement - Deploying federate 'sumo' locally in ./tmp/sumo\n",
      "2021-06-15 11:38:14,936 INFO  FederationManagement - Starting federate 'sumo' locally in ./tmp/sumo\n",
      "2021-06-15 11:38:14,937 INFO  FederationManagement - Add ambassador/federate with id 'output'\n",
      "11:38:17 - Simulating: 180000000000ns (180.0s) - 100.0%                                          \n",
      "11:38:17 - Duration: 00h 00m 01.648s (RTF: 109.00)\n",
      "11:38:17 - Simulation finished: 101\n",
      "\n",
      "\n"
     ]
    }
   ],
   "source": [
    "!{mosaic.run_simulation(jupyter=True)}"
   ]
  },
  {
   "cell_type": "markdown",
   "metadata": {},
   "source": [
    "Now that we ran the simulation, we can access the generateed output. Normally, this file is in your Eclipse MOSAIC folder under `logs/log-{yyyymmdd}-{hhmmss}-{simulation-name}`\n",
    "\n",
    "However, you can simply call the method `select_simulation_result(idx=0)` to access and generate pandas DataFrame of your latest simulation.\n",
    "\n",
    "Hint: idx=0 is the most recent simulation, idx:1..n is previous simulations, with ascending integers corresponding to older simulations. "
   ]
  },
  {
   "cell_type": "code",
   "execution_count": 4,
   "metadata": {},
   "outputs": [
    {
     "data": {
      "text/html": [
       "<div>\n",
       "<style scoped>\n",
       "    .dataframe tbody tr th:only-of-type {\n",
       "        vertical-align: middle;\n",
       "    }\n",
       "\n",
       "    .dataframe tbody tr th {\n",
       "        vertical-align: top;\n",
       "    }\n",
       "\n",
       "    .dataframe thead th {\n",
       "        text-align: right;\n",
       "    }\n",
       "</style>\n",
       "<table border=\"1\" class=\"dataframe\">\n",
       "  <thead>\n",
       "    <tr style=\"text-align: right;\">\n",
       "      <th></th>\n",
       "      <th>Event</th>\n",
       "      <th>Time</th>\n",
       "      <th>Name</th>\n",
       "      <th>PositionLatitude</th>\n",
       "      <th>PositionLongitude</th>\n",
       "      <th>Speed</th>\n",
       "      <th>Heading</th>\n",
       "    </tr>\n",
       "  </thead>\n",
       "  <tbody>\n",
       "    <tr>\n",
       "      <th>0</th>\n",
       "      <td>RSU_REGISTRATION</td>\n",
       "      <td>0</td>\n",
       "      <td>rsu_0</td>\n",
       "      <td>[org.eclipse.mosaic.app.tutorial.RoadSideUnitApp]</td>\n",
       "      <td>52.513060766781614</td>\n",
       "      <td>13.328910</td>\n",
       "      <td>NaN</td>\n",
       "    </tr>\n",
       "    <tr>\n",
       "      <th>1</th>\n",
       "      <td>TRAFFICLIGHT_REGISTRATION</td>\n",
       "      <td>0</td>\n",
       "      <td>21487142</td>\n",
       "      <td>[]</td>\n",
       "      <td>52.51277920560211</td>\n",
       "      <td>13.320930</td>\n",
       "      <td>NaN</td>\n",
       "    </tr>\n",
       "    <tr>\n",
       "      <th>2</th>\n",
       "      <td>TRAFFICLIGHT_REGISTRATION</td>\n",
       "      <td>0</td>\n",
       "      <td>21487143</td>\n",
       "      <td>[]</td>\n",
       "      <td>52.51293944437586</td>\n",
       "      <td>13.321095</td>\n",
       "      <td>NaN</td>\n",
       "    </tr>\n",
       "    <tr>\n",
       "      <th>3</th>\n",
       "      <td>TRAFFICLIGHT_REGISTRATION</td>\n",
       "      <td>0</td>\n",
       "      <td>21487144</td>\n",
       "      <td>[]</td>\n",
       "      <td>52.51315308657008</td>\n",
       "      <td>13.321971</td>\n",
       "      <td>NaN</td>\n",
       "    </tr>\n",
       "    <tr>\n",
       "      <th>4</th>\n",
       "      <td>TRAFFICLIGHT_REGISTRATION</td>\n",
       "      <td>0</td>\n",
       "      <td>21487146</td>\n",
       "      <td>[]</td>\n",
       "      <td>52.51205062015165</td>\n",
       "      <td>13.322518</td>\n",
       "      <td>NaN</td>\n",
       "    </tr>\n",
       "    <tr>\n",
       "      <th>...</th>\n",
       "      <td>...</td>\n",
       "      <td>...</td>\n",
       "      <td>...</td>\n",
       "      <td>...</td>\n",
       "      <td>...</td>\n",
       "      <td>...</td>\n",
       "      <td>...</td>\n",
       "    </tr>\n",
       "    <tr>\n",
       "      <th>1689</th>\n",
       "      <td>VEHICLE_UPDATES</td>\n",
       "      <td>179000000000</td>\n",
       "      <td>veh_3</td>\n",
       "      <td>52.51336922253963</td>\n",
       "      <td>13.335583927770221</td>\n",
       "      <td>0.012908</td>\n",
       "      <td>85.618063</td>\n",
       "    </tr>\n",
       "    <tr>\n",
       "      <th>1690</th>\n",
       "      <td>VEHICLE_UPDATES</td>\n",
       "      <td>179000000000</td>\n",
       "      <td>veh_0</td>\n",
       "      <td>52.51339811043075</td>\n",
       "      <td>13.335583758694831</td>\n",
       "      <td>0.000000</td>\n",
       "      <td>85.618063</td>\n",
       "    </tr>\n",
       "    <tr>\n",
       "      <th>1691</th>\n",
       "      <td>VEHICLE_UPDATES</td>\n",
       "      <td>179000000000</td>\n",
       "      <td>veh_1</td>\n",
       "      <td>52.513462225363384</td>\n",
       "      <td>13.336532952037437</td>\n",
       "      <td>9.726089</td>\n",
       "      <td>84.953157</td>\n",
       "    </tr>\n",
       "    <tr>\n",
       "      <th>1692</th>\n",
       "      <td>V2X_MESSAGE_TRANSMISSION</td>\n",
       "      <td>179000000000</td>\n",
       "      <td>260</td>\n",
       "      <td>veh_2</td>\n",
       "      <td>GreenWaveMsg</td>\n",
       "      <td>NaN</td>\n",
       "      <td>NaN</td>\n",
       "    </tr>\n",
       "    <tr>\n",
       "      <th>1693</th>\n",
       "      <td>V2X_MESSAGE_RECEPTION</td>\n",
       "      <td>179031893174</td>\n",
       "      <td>260</td>\n",
       "      <td>veh_2</td>\n",
       "      <td>GreenWaveMsg</td>\n",
       "      <td>NaN</td>\n",
       "      <td>NaN</td>\n",
       "    </tr>\n",
       "  </tbody>\n",
       "</table>\n",
       "<p>1694 rows × 7 columns</p>\n",
       "</div>"
      ],
      "text/plain": [
       "                          Event          Time      Name  \\\n",
       "0              RSU_REGISTRATION             0     rsu_0   \n",
       "1     TRAFFICLIGHT_REGISTRATION             0  21487142   \n",
       "2     TRAFFICLIGHT_REGISTRATION             0  21487143   \n",
       "3     TRAFFICLIGHT_REGISTRATION             0  21487144   \n",
       "4     TRAFFICLIGHT_REGISTRATION             0  21487146   \n",
       "...                         ...           ...       ...   \n",
       "1689            VEHICLE_UPDATES  179000000000     veh_3   \n",
       "1690            VEHICLE_UPDATES  179000000000     veh_0   \n",
       "1691            VEHICLE_UPDATES  179000000000     veh_1   \n",
       "1692   V2X_MESSAGE_TRANSMISSION  179000000000       260   \n",
       "1693      V2X_MESSAGE_RECEPTION  179031893174       260   \n",
       "\n",
       "                                       PositionLatitude   PositionLongitude  \\\n",
       "0     [org.eclipse.mosaic.app.tutorial.RoadSideUnitApp]  52.513060766781614   \n",
       "1                                                    []   52.51277920560211   \n",
       "2                                                    []   52.51293944437586   \n",
       "3                                                    []   52.51315308657008   \n",
       "4                                                    []   52.51205062015165   \n",
       "...                                                 ...                 ...   \n",
       "1689                                  52.51336922253963  13.335583927770221   \n",
       "1690                                  52.51339811043075  13.335583758694831   \n",
       "1691                                 52.513462225363384  13.336532952037437   \n",
       "1692                                              veh_2        GreenWaveMsg   \n",
       "1693                                              veh_2        GreenWaveMsg   \n",
       "\n",
       "          Speed    Heading  \n",
       "0     13.328910        NaN  \n",
       "1     13.320930        NaN  \n",
       "2     13.321095        NaN  \n",
       "3     13.321971        NaN  \n",
       "4     13.322518        NaN  \n",
       "...         ...        ...  \n",
       "1689   0.012908  85.618063  \n",
       "1690   0.000000  85.618063  \n",
       "1691   9.726089  84.953157  \n",
       "1692        NaN        NaN  \n",
       "1693        NaN        NaN  \n",
       "\n",
       "[1694 rows x 7 columns]"
      ]
     },
     "execution_count": 4,
     "metadata": {},
     "output_type": "execute_result"
    }
   ],
   "source": [
    "mosaic.select_simulation_result(idx=0)"
   ]
  },
  {
   "cell_type": "markdown",
   "metadata": {},
   "source": [
    "## Working with MOSAIC DataFrames\n",
    "\n",
    "After you select the simulation results using `select_simulation_result()`, a DataFrame is generated, which holds every single log event that took place during simulation runtime.\n",
    "\n",
    "However, not all data is interesting, especially if you are looking at unique vehicles or want to plot only certain traffic lights and road side units for your reports. There are three different calls you can make to find out which data you need/want/find interesting."
   ]
  },
  {
   "cell_type": "code",
   "execution_count": 5,
   "metadata": {},
   "outputs": [
    {
     "data": {
      "text/plain": [
       "['Event',\n",
       " 'Heading',\n",
       " 'Name',\n",
       " 'PositionLatitude',\n",
       " 'PositionLongitude',\n",
       " 'Speed',\n",
       " 'Time']"
      ]
     },
     "execution_count": 5,
     "metadata": {},
     "output_type": "execute_result"
    }
   ],
   "source": [
    "mosaic.get_df_labels"
   ]
  },
  {
   "cell_type": "markdown",
   "metadata": {},
   "source": [
    "`get_df_labels` gives you the labels of the generated DataFrame. In pandas, these labels are called **Fields** and they label the columns."
   ]
  },
  {
   "cell_type": "code",
   "execution_count": 6,
   "metadata": {},
   "outputs": [
    {
     "data": {
      "text/plain": [
       "['RSU_REGISTRATION',\n",
       " 'TRAFFICLIGHT_REGISTRATION',\n",
       " 'V2X_MESSAGE_RECEPTION',\n",
       " 'V2X_MESSAGE_TRANSMISSION',\n",
       " 'VEHICLE_REGISTRATION',\n",
       " 'VEHICLE_UPDATES']"
      ]
     },
     "execution_count": 6,
     "metadata": {},
     "output_type": "execute_result"
    }
   ],
   "source": [
    "mosaic.get_df_events"
   ]
  },
  {
   "cell_type": "markdown",
   "metadata": {},
   "source": [
    "`get_df_events` returns a list of the events registered by the simulator. For example, a vehicle will register a `VEHICLE_UPDATES` event every time the application runs, and at each sampling instant, it will log certain values, for example, speed, position, heading, etc."
   ]
  },
  {
   "cell_type": "code",
   "execution_count": 8,
   "metadata": {},
   "outputs": [
    {
     "data": {
      "text/plain": [
       "['0',\n",
       " '1',\n",
       " '10',\n",
       " '100',\n",
       " '101',\n",
       " '102',\n",
       " '103',\n",
       " '104',\n",
       " '105',\n",
       " '106',\n",
       " '107',\n",
       " '108',\n",
       " '109',\n",
       " '11',\n",
       " '110',\n",
       " '111',\n",
       " '112',\n",
       " '113',\n",
       " '114',\n",
       " '115',\n",
       " '116',\n",
       " '117',\n",
       " '118',\n",
       " '119',\n",
       " '12',\n",
       " '120',\n",
       " '121',\n",
       " '122',\n",
       " '123',\n",
       " '124',\n",
       " '125',\n",
       " '126',\n",
       " '127',\n",
       " '128',\n",
       " '129',\n",
       " '13',\n",
       " '130',\n",
       " '131',\n",
       " '132',\n",
       " '133',\n",
       " '134',\n",
       " '135',\n",
       " '136',\n",
       " '137',\n",
       " '138',\n",
       " '139',\n",
       " '14',\n",
       " '140',\n",
       " '141',\n",
       " '142',\n",
       " '143',\n",
       " '144',\n",
       " '145',\n",
       " '146',\n",
       " '147',\n",
       " '148',\n",
       " '149',\n",
       " '15',\n",
       " '150',\n",
       " '151',\n",
       " '152',\n",
       " '153',\n",
       " '154',\n",
       " '155',\n",
       " '156',\n",
       " '157',\n",
       " '158',\n",
       " '159',\n",
       " '16',\n",
       " '160',\n",
       " '161',\n",
       " '162',\n",
       " '163',\n",
       " '164',\n",
       " '165',\n",
       " '166',\n",
       " '167',\n",
       " '168',\n",
       " '169',\n",
       " '17',\n",
       " '170',\n",
       " '171',\n",
       " '172',\n",
       " '173',\n",
       " '174',\n",
       " '175',\n",
       " '176',\n",
       " '177',\n",
       " '178',\n",
       " '179',\n",
       " '18',\n",
       " '180',\n",
       " '181',\n",
       " '182',\n",
       " '183',\n",
       " '184',\n",
       " '185',\n",
       " '186',\n",
       " '187',\n",
       " '188',\n",
       " '189',\n",
       " '19',\n",
       " '190',\n",
       " '191',\n",
       " '192',\n",
       " '193',\n",
       " '194',\n",
       " '195',\n",
       " '196',\n",
       " '197',\n",
       " '198',\n",
       " '199',\n",
       " '2',\n",
       " '20',\n",
       " '200',\n",
       " '201',\n",
       " '202',\n",
       " '203',\n",
       " '204',\n",
       " '205',\n",
       " '206',\n",
       " '207',\n",
       " '208',\n",
       " '209',\n",
       " '21',\n",
       " '210',\n",
       " '211',\n",
       " '212',\n",
       " '213',\n",
       " '214',\n",
       " '21487142',\n",
       " '21487143',\n",
       " '21487144',\n",
       " '21487146',\n",
       " '21487168',\n",
       " '21487169',\n",
       " '21487170',\n",
       " '21487173',\n",
       " '21487174',\n",
       " '21487175',\n",
       " '215',\n",
       " '216',\n",
       " '21668930',\n",
       " '21677261',\n",
       " '217',\n",
       " '218',\n",
       " '219',\n",
       " '22',\n",
       " '220',\n",
       " '221',\n",
       " '222',\n",
       " '223',\n",
       " '224',\n",
       " '225',\n",
       " '226',\n",
       " '227',\n",
       " '228',\n",
       " '229',\n",
       " '23',\n",
       " '230',\n",
       " '231',\n",
       " '232',\n",
       " '233',\n",
       " '234',\n",
       " '235',\n",
       " '236',\n",
       " '237',\n",
       " '238',\n",
       " '239',\n",
       " '24',\n",
       " '240',\n",
       " '241',\n",
       " '242',\n",
       " '243',\n",
       " '244',\n",
       " '245',\n",
       " '246',\n",
       " '247',\n",
       " '248',\n",
       " '249',\n",
       " '25',\n",
       " '250',\n",
       " '251',\n",
       " '251150126',\n",
       " '252',\n",
       " '253',\n",
       " '254',\n",
       " '255',\n",
       " '256',\n",
       " '25661280',\n",
       " '257',\n",
       " '258',\n",
       " '259',\n",
       " '26',\n",
       " '260',\n",
       " '262454829',\n",
       " '26703689',\n",
       " '26704447',\n",
       " '26704482',\n",
       " '26785753',\n",
       " '26870674',\n",
       " '26873453',\n",
       " '26873454',\n",
       " '27',\n",
       " '28',\n",
       " '29',\n",
       " '3',\n",
       " '30',\n",
       " '31',\n",
       " '32',\n",
       " '33',\n",
       " '34',\n",
       " '35',\n",
       " '36',\n",
       " '37',\n",
       " '38',\n",
       " '39',\n",
       " '4',\n",
       " '40',\n",
       " '41',\n",
       " '415838100',\n",
       " '42',\n",
       " '428788319',\n",
       " '428788320',\n",
       " '43',\n",
       " '44',\n",
       " '45',\n",
       " '46',\n",
       " '47',\n",
       " '48',\n",
       " '49',\n",
       " '5',\n",
       " '50',\n",
       " '51',\n",
       " '52',\n",
       " '53',\n",
       " '54',\n",
       " '55',\n",
       " '56',\n",
       " '57',\n",
       " '58',\n",
       " '59',\n",
       " '6',\n",
       " '60',\n",
       " '61',\n",
       " '62',\n",
       " '63',\n",
       " '64',\n",
       " '65',\n",
       " '66',\n",
       " '67',\n",
       " '68',\n",
       " '69',\n",
       " '7',\n",
       " '70',\n",
       " '71',\n",
       " '72',\n",
       " '73',\n",
       " '74',\n",
       " '75',\n",
       " '76',\n",
       " '77',\n",
       " '78',\n",
       " '79',\n",
       " '8',\n",
       " '80',\n",
       " '81',\n",
       " '82',\n",
       " '83',\n",
       " '84',\n",
       " '85',\n",
       " '86',\n",
       " '87',\n",
       " '88',\n",
       " '89',\n",
       " '9',\n",
       " '90',\n",
       " '91',\n",
       " '92',\n",
       " '93',\n",
       " '94',\n",
       " '95',\n",
       " '96',\n",
       " '97',\n",
       " '98',\n",
       " '99',\n",
       " 'rsu_0',\n",
       " 'tl_0',\n",
       " 'tl_1',\n",
       " 'tl_2',\n",
       " 'veh_0',\n",
       " 'veh_1',\n",
       " 'veh_2',\n",
       " 'veh_3']"
      ]
     },
     "execution_count": 8,
     "metadata": {},
     "output_type": "execute_result"
    }
   ],
   "source": [
    "mosaic.get_df_apps"
   ]
  },
  {
   "cell_type": "markdown",
   "metadata": {},
   "source": [
    "`get_df_apps` returns a list of all the executed applications during runtime. If you need, for example, the vehicle with the index 0, you'd need the value `veh_0`. Other possible values are (in this case) `rsu_0, tl_0, tl_1, tl_2, veh_1, veh_2` or `veh_3`"
   ]
  },
  {
   "cell_type": "markdown",
   "metadata": {},
   "source": [
    "### Filtering pd.DataFrame\n",
    "\n",
    "Now that you know how to investigate the simulation output, lets filter some data using numpy and pandas: `cid_mosaic` has a method called `df2np()`, which is just a wrapper for `np.asfarray()`.\n",
    "\n",
    "Imagine you want to take a look at the speed of each vehicle for this simulation. You investiged the data and found out that there are four vehicles `veh_0`, `veh_1`, `veh_2` and `veh_3`. Since we want the speeds we are also going to need our event `VEHICLE_UPDATES`.\n",
    "\n",
    "We also need a figure out which fields we are going to need. In this specific case, we can extract every field using `'all'` since there is only 7 of them, but in larger data sets you might want to specify which fields you need. For example: `mosaic.filter_df('VEHICLE_UPDATES', 'veh_0', 'Speed')` for speed of vehicle 0.\n",
    "\n",
    "Hint: `Event`, `Time` and `Name` (application name) are always extracted and you don't need to specify these again."
   ]
  },
  {
   "cell_type": "code",
   "execution_count": 9,
   "metadata": {},
   "outputs": [],
   "source": [
    "veh0 = mosaic.filter_df('VEHICLE_UPDATES', 'veh_0', 'all')\n",
    "veh1 = mosaic.filter_df('VEHICLE_UPDATES', 'veh_1', 'all')\n",
    "veh2 = mosaic.filter_df('VEHICLE_UPDATES', 'veh_2', 'all')\n",
    "veh3 = mosaic.filter_df('VEHICLE_UPDATES', 'veh_3', 'all')"
   ]
  },
  {
   "cell_type": "markdown",
   "metadata": {},
   "source": [
    "Our filtered variables `veh_0`, `veh_1`, `veh_2` and `veh_3` are still DataFrames, which means we can easily access the fields as if we would access the methods of an object:\n",
    "\n",
    "`veh0.Time` is the sampling instants, `veh1.Speed` is the speed of the vehicle 1, etc.\n",
    "\n",
    "Lets plot the speeds and the sampled GPS locations of our four vehicles!"
   ]
  },
  {
   "cell_type": "code",
   "execution_count": 10,
   "metadata": {},
   "outputs": [
    {
     "data": {
      "text/plain": [
       "<matplotlib.legend.Legend at 0x7f69a5a19ee0>"
      ]
     },
     "execution_count": 10,
     "metadata": {},
     "output_type": "execute_result"
    },
    {
     "data": {
      "image/png": "[encoded data removed]",
      "text/plain": [
       "<Figure size 1080x360 with 1 Axes>"
      ]
     },
     "metadata": {},
     "output_type": "display_data"
    }
   ],
   "source": [
    "plt.plot(np.asfarray(veh0.Time), np.asfarray(veh0.Speed), label='veh0')\n",
    "plt.plot(np.asfarray(veh1.Time), np.asfarray(veh1.Speed), label='veh1')\n",
    "plt.plot(np.asfarray(veh2.Time), np.asfarray(veh2.Speed), label='veh2')\n",
    "plt.plot(np.asfarray(veh3.Time), np.asfarray(veh3.Speed), label='veh3')\n",
    "plt.title('Speed of Vehicle 0-1-2-3')\n",
    "plt.legend()"
   ]
  },
  {
   "cell_type": "code",
   "execution_count": 11,
   "metadata": {},
   "outputs": [
    {
     "data": {
      "text/plain": [
       "<matplotlib.legend.Legend at 0x7f69a5990040>"
      ]
     },
     "execution_count": 11,
     "metadata": {},
     "output_type": "execute_result"
    },
    {
     "data": {
      "image/png": "[encoded data removed]",
      "text/plain": [
       "<Figure size 1080x360 with 1 Axes>"
      ]
     },
     "metadata": {},
     "output_type": "display_data"
    }
   ],
   "source": [
    "plt.figure()\n",
    "plt.scatter(np.asfarray(veh0.PositionLongitude),\n",
    "            np.asfarray(veh0.PositionLatitude),\n",
    "            linewidths=0.5,\n",
    "            label='veh0')\n",
    "plt.scatter(np.asfarray(veh1.PositionLongitude),\n",
    "            np.asfarray(veh1.PositionLatitude),\n",
    "            linewidths=0.5,\n",
    "            label='veh1')\n",
    "plt.scatter(np.asfarray(veh2.PositionLongitude),\n",
    "            np.asfarray(veh2.PositionLatitude),\n",
    "            linewidths=0.5,\n",
    "            label='veh2')\n",
    "plt.scatter(np.asfarray(veh3.PositionLongitude),\n",
    "            np.asfarray(veh3.PositionLatitude),\n",
    "            linewidths=0.5,\n",
    "            label='veh3')\n",
    "plt.title('Road Travelled - Vehicle 0-1-2-3')\n",
    "plt.legend()"
   ]
  },
  {
   "cell_type": "markdown",
   "metadata": {},
   "source": [
    "### Configuring the Federates\n",
    "\n",
    "Eclipse MOSAIC is designed to be extendable using the concept of federates. This will be explained more in detail during the workshop lecture, but simply put, the federates communicate with the main application and effect the behaviour of the vehicles.\n",
    "\n",
    "Some examples of federates are `cell`, `ns3`, `omnetpp`, `environment`, `application`, `sns` and `sumo`, among others.\n",
    "\n",
    "Federates are configured using JSON files, which you can very well just edit using any text editor without much hassle. However, we implemented an interface which can be programmatically used to edit and configure the federates.\n",
    "\n",
    "Hint: It is highly recommended to backup the whole simulation folder before you play with any federate configurations, since it is really easy to type an invalid value and lose track of what you have done. In the worst case scenario, you can restore the simulation easily and start over.\n",
    "\n",
    "There are two calls and two main methods: `get_federates`, `pprint_curr_fed`, `retrieve_federate(federate, idx)` and `set_federate_value(tree, value)`"
   ]
  },
  {
   "cell_type": "code",
   "execution_count": 12,
   "metadata": {},
   "outputs": [
    {
     "name": "stdout",
     "output_type": "stream",
     "text": [
      "Available federates: ['application', 'battery', 'cell', 'environment', 'mapping', 'ns3', 'omnetpp', 'output', 'scenario_config.json', 'sns', 'sumo']\n"
     ]
    }
   ],
   "source": [
    "mosaic.get_federates"
   ]
  },
  {
   "cell_type": "markdown",
   "metadata": {},
   "source": [
    "`get_federates` returns a list of all available federates, including `scenario_config.json`. The latter JSON file is not exactly a federate, but still, it is a json file which can be configured with our method.\n",
    "\n",
    "`retrieve_federate(federate, idx)` is a method which allows you to explore the federate folder, if idx is None, or it retrieves the federate configuration and load it up.\n",
    "\n",
    "Lets explore `cell` federate:"
   ]
  },
  {
   "cell_type": "code",
   "execution_count": 13,
   "metadata": {},
   "outputs": [
    {
     "name": "stdout",
     "output_type": "stream",
     "text": [
      "['cell_config.json', 'network.json', 'regions.json']\n"
     ]
    },
    {
     "data": {
      "text/plain": [
       "['cell_config.json', 'network.json', 'regions.json']"
      ]
     },
     "execution_count": 13,
     "metadata": {},
     "output_type": "execute_result"
    }
   ],
   "source": [
    "mosaic.retrieve_federate('cell')"
   ]
  },
  {
   "cell_type": "markdown",
   "metadata": {},
   "source": [
    "From previous experience, I know that `network.json` is the configuration for the cellular network, so lets retrieve that using `idx=1`"
   ]
  },
  {
   "cell_type": "code",
   "execution_count": 14,
   "metadata": {},
   "outputs": [
    {
     "data": {
      "text/plain": [
       "'/home/onqi/Documents/eclipse_mosaic/scenarios/Tiergarten/cell/network.json'"
      ]
     },
     "execution_count": 14,
     "metadata": {},
     "output_type": "execute_result"
    }
   ],
   "source": [
    "mosaic.retrieve_federate('cell', idx=1)"
   ]
  },
  {
   "cell_type": "markdown",
   "metadata": {},
   "source": [
    "The full path of the retrieved federate is displayed and loaded in the background. Now you can explore the federate configuration using `pprint_curr_fed`"
   ]
  },
  {
   "cell_type": "code",
   "execution_count": 15,
   "metadata": {},
   "outputs": [
    {
     "name": "stdout",
     "output_type": "stream",
     "text": [
      "Current federate: network.json\n",
      "{\n",
      "    \"globalNetwork\": {\n",
      "        \"downlink\": {\n",
      "            \"capacity\": 42200000,\n",
      "            \"multicast\": {\n",
      "                \"delay\": {\n",
      "                    \"expDelay\": \"200 ms\",\n",
      "                    \"minDelay\": \"100 ms\",\n",
      "                    \"type\": \"GammaRandomDelay\"\n",
      "                },\n",
      "                \"transmission\": {\n",
      "                    \"lossProbability\": 0.0\n",
      "                },\n",
      "                \"usableCapacity\": 0.6\n",
      "            },\n",
      "            \"unicast\": {\n",
      "                \"delay\": {\n",
      "                    \"expDelay\": \"150 ms\",\n",
      "                    \"minDelay\": \"50 ms\",\n",
      "                    \"type\": \"GammaRandomDelay\"\n",
      "                },\n",
      "                \"transmission\": {\n",
      "                    \"lossProbability\": 0.0,\n",
      "                    \"maxRetries\": 2\n",
      "                }\n",
      "            }\n",
      "        },\n",
      "        \"uplink\": {\n",
      "            \"capacity\": 28000000,\n",
      "            \"delay\": {\n",
      "                \"expDelay\": \"250 ms\",\n",
      "                \"minDelay\": \"50 ms\",\n",
      "                \"type\": \"GammaRandomDelay\"\n",
      "            },\n",
      "            \"transmission\": {\n",
      "                \"lossProbability\": 0.0,\n",
      "                \"maxRetries\": 2\n",
      "            }\n",
      "        }\n",
      "    }\n",
      "}\n"
     ]
    }
   ],
   "source": [
    "mosaic.pprint_curr_fed"
   ]
  },
  {
   "cell_type": "markdown",
   "metadata": {},
   "source": [
    "A JSON file, for all intents and purposes, acts like a dictionary when loaded in Python.\n",
    "\n",
    "Using the method `set_federate_value(tree, value)` will set the selected key to the desired value.\n",
    "\n",
    "The tree is seperated using dot (`.`) as we descend further down the line, for example `\"globalNetwork.uplink.delay.expDelay\"`\n",
    "\n",
    "The current value of `\"globalNetwork.uplink.delay.expDelay\"` is `\"150 ms\"`. Notice the quotes and make sure you abide by the type of the existing value.\n",
    "\n",
    "Lets set this key to `\"250 ms\"`."
   ]
  },
  {
   "cell_type": "code",
   "execution_count": 16,
   "metadata": {},
   "outputs": [
    {
     "name": "stdout",
     "output_type": "stream",
     "text": [
      "Federate value of globalNetwork.uplink.delay.expDelay set to 250 ms\n"
     ]
    }
   ],
   "source": [
    "mosaic.set_federate_value('globalNetwork.uplink.delay.expDelay', '250 ms')"
   ]
  },
  {
   "cell_type": "markdown",
   "metadata": {},
   "source": [
    "And print our new federate configuration once again to validate the change."
   ]
  },
  {
   "cell_type": "code",
   "execution_count": 17,
   "metadata": {},
   "outputs": [
    {
     "name": "stdout",
     "output_type": "stream",
     "text": [
      "Current federate: network.json\n",
      "{\n",
      "    \"globalNetwork\": {\n",
      "        \"downlink\": {\n",
      "            \"capacity\": 42200000,\n",
      "            \"multicast\": {\n",
      "                \"delay\": {\n",
      "                    \"expDelay\": \"200 ms\",\n",
      "                    \"minDelay\": \"100 ms\",\n",
      "                    \"type\": \"GammaRandomDelay\"\n",
      "                },\n",
      "                \"transmission\": {\n",
      "                    \"lossProbability\": 0.0\n",
      "                },\n",
      "                \"usableCapacity\": 0.6\n",
      "            },\n",
      "            \"unicast\": {\n",
      "                \"delay\": {\n",
      "                    \"expDelay\": \"150 ms\",\n",
      "                    \"minDelay\": \"50 ms\",\n",
      "                    \"type\": \"GammaRandomDelay\"\n",
      "                },\n",
      "                \"transmission\": {\n",
      "                    \"lossProbability\": 0.0,\n",
      "                    \"maxRetries\": 2\n",
      "                }\n",
      "            }\n",
      "        },\n",
      "        \"uplink\": {\n",
      "            \"capacity\": 28000000,\n",
      "            \"delay\": {\n",
      "                \"expDelay\": \"250 ms\",\n",
      "                \"minDelay\": \"50 ms\",\n",
      "                \"type\": \"GammaRandomDelay\"\n",
      "            },\n",
      "            \"transmission\": {\n",
      "                \"lossProbability\": 0.0,\n",
      "                \"maxRetries\": 2\n",
      "            }\n",
      "        }\n",
      "    }\n",
      "}\n"
     ]
    }
   ],
   "source": [
    "mosaic.pprint_curr_fed"
   ]
  },
  {
   "cell_type": "markdown",
   "metadata": {},
   "source": [
    "The new value of `\"globalNetwork.uplink.delay.expDelay\"` is `\"250 ms\"`.\n",
    "\n",
    "Make sure to run the simulation again to observe what kind of changes happen."
   ]
  },
  {
   "cell_type": "code",
   "execution_count": 18,
   "metadata": {},
   "outputs": [
    {
     "name": "stdout",
     "output_type": "stream",
     "text": [
      "Opening in existing browser session.\n",
      "2021-06-15 11:43:55,246 INFO  ROOT - Running Eclipse MOSAIC 21.0 on Java JRE v11.0.11 (AdoptOpenJDK)\n",
      "2021-06-15 11:43:55,554 INFO  FederationManagement - Start federation with id 'Tiergarten'\n",
      "2021-06-15 11:43:55,555 INFO  FederationManagement - Add ambassador/federate with id 'application'\n",
      "2021-06-15 11:43:55,556 INFO  FederationManagement - Add ambassador/federate with id 'environment'\n",
      "2021-06-15 11:43:55,560 INFO  FederationManagement - Add ambassador/federate with id 'mapping'\n",
      "2021-06-15 11:43:55,561 INFO  FederationManagement - Add ambassador/federate with id 'sns'\n",
      "2021-06-15 11:43:55,561 INFO  FederationManagement - Add ambassador/federate with id 'sumo'\n",
      "2021-06-15 11:43:55,561 INFO  FederationManagement - Deploying federate 'sumo' locally in ./tmp/sumo\n",
      "2021-06-15 11:43:55,564 INFO  FederationManagement - Starting federate 'sumo' locally in ./tmp/sumo\n",
      "2021-06-15 11:43:55,564 INFO  FederationManagement - Add ambassador/federate with id 'output'\n",
      "11:43:57 - Simulating: 180000000000ns (180.0s) - 100.0%                                          \n",
      "11:43:57 - Duration: 00h 00m 01.643s (RTF: 109.00)\n",
      "11:43:57 - Simulation finished: 101\n",
      "\n",
      "\n"
     ]
    }
   ],
   "source": [
    "!{mosaic.run_simulation(jupyter=True)}"
   ]
  },
  {
   "cell_type": "markdown",
   "metadata": {},
   "source": [
    "Thank you for following the introduction and don't forget to play with the tool a little bit more to get used to it. \n",
    "\n",
    "Don't forget to report any problems or bugs you might find! We'd be happy to work on it with you!\n",
    "\n",
    "**See you in the workshop!**"
   ]
  }
 ],
 "metadata": {
  "kernelspec": {
   "display_name": "Python 3",
   "language": "python",
   "name": "python3"
  },
  "language_info": {
   "codemirror_mode": {
    "name": "ipython",
    "version": 3
   },
   "file_extension": ".py",
   "mimetype": "text/x-python",
   "name": "python",
   "nbconvert_exporter": "python",
   "pygments_lexer": "ipython3",
   "version": "3.8.6"
  }
 },
 "nbformat": 4,
 "nbformat_minor": 4
}
