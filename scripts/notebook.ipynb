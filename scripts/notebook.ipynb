{
 "cells": [
  {
   "cell_type": "markdown",
   "metadata": {},
   "source": [
    "# CID Workshop 2\n",
    "\n",
    "Welcome!\n",
    "\n",
    "This notebook is the interface to a little toolbox we wrote to run and analyze Mosaik simulations for this workshop.\n",
    "\n",
    "For questions, troubleshooting and bugs please reach out to me (Ongun Türkcüoglu) via email: ongun.turkcuoglu@campus.tu-berlin.de "
   ]
  },
  {
   "cell_type": "code",
   "execution_count": 1,
   "metadata": {},
   "outputs": [],
   "source": [
    "from cid_mosaic import Mosaic"
   ]
  },
  {
   "cell_type": "markdown",
   "metadata": {},
   "source": [
    "Initialize the toolbox using the absolute path to your Eclipse MOSAIC installation, i.e. `'/home/onqi/Documents/eclipse_mosaic'`."
   ]
  },
  {
   "cell_type": "code",
   "execution_count": 2,
   "metadata": {},
   "outputs": [
    {
     "name": "stdout",
     "output_type": "stream",
     "text": [
      "Loading latest simulation result 'log-20210702-191133-Barnim'\n"
     ]
    }
   ],
   "source": [
    "mosaic = Mosaic('/home/onqi/Documents/eclipse_mosaic')"
   ]
  },
  {
   "cell_type": "markdown",
   "metadata": {},
   "source": [
    "The method `run_simulation()` will run the selected simulation and display the terminal output in the notebook.\n",
    "If you set `visualize=True`, the Mosaic visualizer will open in a new tab."
   ]
  },
  {
   "cell_type": "code",
   "execution_count": 3,
   "metadata": {},
   "outputs": [
    {
     "name": "stdout",
     "output_type": "stream",
     "text": [
      "Running: ./mosaic.sh -s Barnim\n",
      "2021-07-02 19:17:20,509 INFO  ROOT - Running Eclipse MOSAIC 21.0 on Java JRE v11.0.9 (Amazon.com Inc.)\n",
      "2021-07-02 19:17:20,688 INFO  FederationManagement - Start federation with id 'Barnim'\n",
      "2021-07-02 19:17:20,688 INFO  FederationManagement - Add ambassador/federate with id 'application'\n",
      "2021-07-02 19:17:20,689 INFO  FederationManagement - Add ambassador/federate with id 'environment'\n",
      "2021-07-02 19:17:20,689 INFO  FederationManagement - Add ambassador/federate with id 'mapping'\n",
      "2021-07-02 19:17:20,689 INFO  FederationManagement - Add ambassador/federate with id 'cell'\n",
      "2021-07-02 19:17:20,689 INFO  FederationManagement - Add ambassador/federate with id 'sns'\n",
      "2021-07-02 19:17:20,690 INFO  FederationManagement - Add ambassador/federate with id 'sumo'\n",
      "2021-07-02 19:17:20,690 INFO  FederationManagement - Deploying federate 'sumo' locally in ./tmp/sumo\n",
      "2021-07-02 19:17:20,718 INFO  FederationManagement - Starting federate 'sumo' locally in ./tmp/sumo\n",
      "2021-07-02 19:17:20,718 INFO  FederationManagement - Add ambassador/federate with id 'output'\n",
      "19:17:42 - Simulating: 1000000000000ns (1000.0s) - 100.0%                                                       \n",
      "19:17:42 - Duration: 00h 00m 16.915s (RTF: 59.00)\n",
      "19:17:42 - Simulation finished: 101\n",
      "\n",
      "\n",
      "\n",
      "Loading latest simulation result 'log-20210702-191720-Barnim'\n"
     ]
    }
   ],
   "source": [
    "mosaic.run_simulation(visualize=False)"
   ]
  },
  {
   "cell_type": "code",
   "execution_count": 4,
   "metadata": {},
   "outputs": [
    {
     "name": "stderr",
     "output_type": "stream",
     "text": [
      "<ipython-input-4-5034aafe0636>:1: DtypeWarning: Columns (3,5,7) have mixed types.Specify dtype option on import or set low_memory=False.\n",
      "  mosaic.eval_simulation()\n"
     ]
    },
    {
     "name": "stdout",
     "output_type": "stream",
     "text": [
      "20 vehicles took the standard route\n",
      "100 vehicles took the alternate route\n",
      "On average a vehicle released 1455.41 g CO2\n"
     ]
    },
    {
     "data": {
      "text/plain": [
       "(20, 100, 1455.411065278961)"
      ]
     },
     "execution_count": 4,
     "metadata": {},
     "output_type": "execute_result"
    }
   ],
   "source": [
    "mosaic.eval_simulation()"
   ]
  },
  {
   "cell_type": "code",
   "execution_count": null,
   "metadata": {},
   "outputs": [],
   "source": []
  }
 ],
 "metadata": {
  "kernelspec": {
   "display_name": "carbon",
   "language": "python",
   "name": "carbon"
  },
  "language_info": {
   "codemirror_mode": {
    "name": "ipython",
    "version": 3
   },
   "file_extension": ".py",
   "mimetype": "text/x-python",
   "name": "python",
   "nbconvert_exporter": "python",
   "pygments_lexer": "ipython3",
   "version": "3.8.8"
  }
 },
 "nbformat": 4,
 "nbformat_minor": 4
}
