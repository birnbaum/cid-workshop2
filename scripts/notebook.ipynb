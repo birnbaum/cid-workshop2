{
 "cells": [
  {
   "cell_type": "markdown",
   "metadata": {},
   "source": [
    "# Introduction - cid_mosaic\n",
    "\n",
    "Welcome!\n",
    "\n",
    "This notebook is intended as a preparation for the second workshop and it introduces a custom made Python class designed to help you analyze the simulation results from Eclipse MOSAIC. It can also be used to programmatically interact with the federate configurations.\n",
    "\n",
    "Make sure everything works before attending the workshop.\n",
    "\n",
    "For questions, troubleshooting and bugs please reach me (Ongun Türkcüoglu) via email: ongun.turkcuoglu@campus.tu-berlin.de "
   ]
  },
  {
   "cell_type": "markdown",
   "metadata": {},
   "source": [
    "## Lets start by importing the modules we need for our analysis!\n",
    "\n",
    "Hint: You can display the documentation by highlighting the object/method and pressing Shift+Tab"
   ]
  },
  {
   "cell_type": "code",
   "execution_count": 3,
   "metadata": {},
   "outputs": [],
   "source": [
    "from cid_mosaic import cid_mosaic\n",
    "import numpy as np\n",
    "import matplotlib\n",
    "import matplotlib.pyplot as plt\n",
    "import seaborn as sns\n",
    "\n",
    "# Init seaborn for pretty plots\n",
    "sns.set()\n",
    "\n",
    "# Larger plots\n",
    "matplotlib.rcParams['figure.figsize'] = [15, 5]"
   ]
  },
  {
   "cell_type": "markdown",
   "metadata": {},
   "source": [
    "Initialize the toolbox using the path to your Eclipse MOSAIC installation, i.e. `'/home/onqi/Documents/eclipse_mosaic/'`."
   ]
  },
  {
   "cell_type": "code",
   "execution_count": 4,
   "metadata": {},
   "outputs": [
    {
     "name": "stdout",
     "output_type": "stream",
     "text": [
      "Loading latest simulation result 'log-20210701-125056-Barnim'\n"
     ]
    }
   ],
   "source": [
    "mosaic = cid_mosaic('/home/onqi/Documents/eclipse_mosaic')"
   ]
  },
  {
   "cell_type": "markdown",
   "metadata": {},
   "source": [
    "The method `run_simulation()` will run the selected simulation and display the terminal output in the notebook."
   ]
  },
  {
   "cell_type": "code",
   "execution_count": 3,
   "metadata": {},
   "outputs": [
    {
     "name": "stdout",
     "output_type": "stream",
     "text": [
      "Running: ./mosaic.sh -s Barnim -v\n",
      "2021-06-30 18:25:43,207 INFO  ROOT - Running Eclipse MOSAIC 21.0 on Java JRE v11.0.9 (Amazon.com Inc.)\n",
      "2021-06-30 18:25:43,707 INFO  FederationManagement - Start federation with id 'Barnim'\n",
      "2021-06-30 18:25:43,709 INFO  FederationManagement - Add ambassador/federate with id 'application'\n",
      "2021-06-30 18:25:43,710 INFO  FederationManagement - Add ambassador/federate with id 'environment'\n",
      "2021-06-30 18:25:43,711 INFO  FederationManagement - Add ambassador/federate with id 'mapping'\n",
      "2021-06-30 18:25:43,711 INFO  FederationManagement - Add ambassador/federate with id 'sns'\n",
      "2021-06-30 18:25:43,712 INFO  FederationManagement - Add ambassador/federate with id 'sumo'\n",
      "2021-06-30 18:25:43,712 INFO  FederationManagement - Deploying federate 'sumo' locally in ./tmp/sumo\n",
      "2021-06-30 18:25:43,815 INFO  FederationManagement - Starting federate 'sumo' locally in ./tmp/sumo\n",
      "2021-06-30 18:25:43,816 INFO  FederationManagement - Add ambassador/federate with id 'output'\n",
      "18:25:55 - Simulating: 1000000000000ns (1000.0s) - 100.0%                                                       \n",
      "18:25:55 - Duration: 00h 00m 09.438s (RTF: 105.00)\n",
      "18:25:55 - Simulation finished: 101\n",
      "\n",
      "\n",
      "\n",
      "Loading latest simulation result 'log-20210630-182542-Barnim'\n"
     ]
    }
   ],
   "source": [
    "mosaic.run_simulation()"
   ]
  },
  {
   "cell_type": "markdown",
   "metadata": {},
   "source": [
    "Now that we ran the simulation, we can access the generateed output. Normally, this file is in your Eclipse MOSAIC folder under `logs/log-{yyyymmdd}-{hhmmss}-{simulation-name}`\n",
    "\n",
    "However, you can simply call the method `select_simulation_result(idx=0)` to access and generate pandas DataFrame of your latest simulation.\n",
    "\n",
    "Hint: idx=0 is the most recent simulation, idx:1..n is previous simulations, with ascending integers corresponding to older simulations. "
   ]
  },
  {
   "cell_type": "code",
   "execution_count": 5,
   "metadata": {},
   "outputs": [
    {
     "name": "stdout",
     "output_type": "stream",
     "text": [
      "Loading latest simulation result 'log-20210701-125056-Barnim'\n"
     ]
    }
   ],
   "source": [
    "mosaic.set_simulation_result(idx=0)"
   ]
  },
  {
   "cell_type": "markdown",
   "metadata": {},
   "source": [
    "## Working with MOSAIC DataFrames\n",
    "\n",
    "After you select the simulation results using `select_simulation_result()`, a DataFrame is generated, which holds every single log event that took place during simulation runtime.\n",
    "\n",
    "However, not all data is interesting, especially if you are looking at unique vehicles or want to plot only certain traffic lights and road side units for your reports. There are three different calls you can make to find out which data you need/want/find interesting."
   ]
  },
  {
   "cell_type": "code",
   "execution_count": 6,
   "metadata": {},
   "outputs": [
    {
     "data": {
      "text/plain": [
       "['VEHICLE_UPDATES',\n",
       " 'V2X_MESSAGE_RECEPTION',\n",
       " 'V2X_MESSAGE_TRANSMISSION',\n",
       " 'VEHICLE_REGISTRATION',\n",
       " 'TRAFFICLIGHT_REGISTRATION',\n",
       " 'TRAFFICSIGN_REGISTRATION',\n",
       " 'CHANGE_SPEED',\n",
       " 'RSU_REGISTRATION',\n",
       " 'ADHOC_CONFIGURATION',\n",
       " 'CELL_CONFIGURATION',\n",
       " 'DETECTOR_UPDATES',\n",
       " 'LANE_PROPERTY_CHANGE']"
      ]
     },
     "execution_count": 6,
     "metadata": {},
     "output_type": "execute_result"
    }
   ],
   "source": [
    "mosaic.get_df_events"
   ]
  },
  {
   "cell_type": "markdown",
   "metadata": {},
   "source": [
    "`get_df_events` returns a list of the events registered by the simulator. For example, a vehicle will register a `VEHICLE_UPDATES` event every time the application runs, and at each sampling instant, it will log certain values, for example, speed, position, heading, etc."
   ]
  },
  {
   "cell_type": "code",
   "execution_count": 7,
   "metadata": {},
   "outputs": [
    {
     "data": {
      "text/plain": [
       "['Event',\n",
       " 'Time',\n",
       " 'Name',\n",
       " 'Speed',\n",
       " 'Heading',\n",
       " 'PositionLatitude',\n",
       " 'PositionLongitude',\n",
       " 'PositionAltitude',\n",
       " 'DistanceDriven',\n",
       " 'LongitudinalAcceleration',\n",
       " 'Slope',\n",
       " 'Stopped',\n",
       " 'RouteId',\n",
       " 'RoadPositionConnectionId',\n",
       " 'RoadPositionLaneIndex',\n",
       " 'VehicleEmissionsCurrentEmissionsCo2',\n",
       " 'VehicleEmissionsCurrentEmissionsCo',\n",
       " 'VehicleEmissionsCurrentEmissionsHc',\n",
       " 'VehicleEmissionsCurrentEmissionsPmx',\n",
       " 'VehicleEmissionsCurrentEmissionsNox',\n",
       " 'VehicleConsumptionsCurrentConsumptionsFuel',\n",
       " 'VehicleEmissionsAllEmissionsCo2',\n",
       " 'VehicleEmissionsAllEmissionsCo',\n",
       " 'VehicleEmissionsAllEmissionsHc',\n",
       " 'VehicleEmissionsAllEmissionsPmx',\n",
       " 'VehicleEmissionsAllEmissionsNox',\n",
       " 'VehicleConsumptionsAllConsumptionsFuel',\n",
       " 'VehicleSignalsBlinkerRight',\n",
       " 'VehicleSignalsBlinkerLeft',\n",
       " 'VehicleSignalsBrakeLight']"
      ]
     },
     "execution_count": 7,
     "metadata": {},
     "output_type": "execute_result"
    }
   ],
   "source": [
    "mosaic.get_df_labels('VEHICLE_UPDATES')"
   ]
  },
  {
   "cell_type": "markdown",
   "metadata": {},
   "source": [
    "`get_df_labels` gives you the labels of the generated DataFrame. In pandas, these labels are called **Fields** and they label the columns."
   ]
  },
  {
   "cell_type": "code",
   "execution_count": 6,
   "metadata": {},
   "outputs": [
    {
     "data": {
      "text/plain": [
       "['veh_96',\n",
       " 'veh_92',\n",
       " 'veh_90',\n",
       " 'veh_86',\n",
       " 'veh_82',\n",
       " 'veh_80',\n",
       " 'veh_76',\n",
       " 'veh_72',\n",
       " 'veh_70',\n",
       " 'veh_66',\n",
       " 'veh_62',\n",
       " 'veh_60',\n",
       " 'veh_6',\n",
       " 'veh_56',\n",
       " 'veh_52',\n",
       " 'veh_50',\n",
       " 'veh_46',\n",
       " 'veh_42',\n",
       " 'veh_40',\n",
       " 'veh_36',\n",
       " 'veh_32',\n",
       " 'veh_30',\n",
       " 'veh_26',\n",
       " 'veh_22',\n",
       " 'veh_20',\n",
       " 'veh_2',\n",
       " 'veh_16',\n",
       " 'veh_12',\n",
       " 'veh_116',\n",
       " 'veh_112',\n",
       " 'veh_110',\n",
       " 'veh_106',\n",
       " 'veh_102',\n",
       " 'veh_100',\n",
       " 'veh_10',\n",
       " 'veh_0',\n",
       " 'rsu_0']"
      ]
     },
     "execution_count": 6,
     "metadata": {},
     "output_type": "execute_result"
    }
   ],
   "source": [
    "mosaic.get_df_apps"
   ]
  },
  {
   "cell_type": "markdown",
   "metadata": {},
   "source": [
    "`get_df_apps` returns a list of all the executed applications during runtime. If you need, for example, the vehicle with the index 0, you'd need the value `veh_0`. Other possible values are (in this case) `rsu_0, tl_0, tl_1, tl_2, veh_1, veh_2` or `veh_3`"
   ]
  },
  {
   "cell_type": "markdown",
   "metadata": {},
   "source": [
    "### Filtering pd.DataFrame\n",
    "\n",
    "Now that you know how to investigate the simulation output, lets filter some data using numpy and pandas: `cid_mosaic` has a method called `df2np()`, which is just a wrapper for `np.asfarray()`.\n",
    "\n",
    "Imagine you want to take a look at the speed of each vehicle for this simulation. You investigated the data and found out that there are four vehicles `veh_0`, `veh_1`, `veh_2` and `veh_3`. Since we want the speeds we are also going to need our event `VEHICLE_UPDATES`.\n",
    "\n",
    "We also need a figure out which fields we are going to need. In this specific case, we can extract every field using `'all'` since there is only 7 of them, but in larger data sets you might want to specify which fields you need. For example: `mosaic.filter_df('VEHICLE_UPDATES', 'veh_0', 'Speed')` for speed of vehicle 0.\n",
    "\n",
    "Hint: `Event`, `Time` and `Name` (application name) are always extracted and you don't need to specify these again."
   ]
  },
  {
   "cell_type": "code",
   "execution_count": 7,
   "metadata": {},
   "outputs": [
    {
     "name": "stderr",
     "output_type": "stream",
     "text": [
      "/usr/local/lib/python3.8/site-packages/IPython/core/interactiveshell.py:3418: DtypeWarning: Columns (3,5,6,7,10) have mixed types.Specify dtype option on import or set low_memory=False.\n",
      "  exec(code_obj, self.user_global_ns, self.user_ns)\n"
     ]
    }
   ],
   "source": [
    "veh0 = mosaic.filter_df(Event='VEHICLE_UPDATES', Name='veh_0', select='all')\n",
    "veh1 = mosaic.filter_df(Event='VEHICLE_UPDATES', Name='veh_1', select='all')\n",
    "veh2 = mosaic.filter_df(Event='VEHICLE_UPDATES', Name='veh_2', select='all')\n",
    "veh3 = mosaic.filter_df(Event='VEHICLE_UPDATES', Name='veh_3', select='all')"
   ]
  },
  {
   "cell_type": "code",
   "execution_count": 9,
   "metadata": {},
   "outputs": [
    {
     "data": {
      "text/html": [
       "<div>\n",
       "<style scoped>\n",
       "    .dataframe tbody tr th:only-of-type {\n",
       "        vertical-align: middle;\n",
       "    }\n",
       "\n",
       "    .dataframe tbody tr th {\n",
       "        vertical-align: top;\n",
       "    }\n",
       "\n",
       "    .dataframe thead th {\n",
       "        text-align: right;\n",
       "    }\n",
       "</style>\n",
       "<table border=\"1\" class=\"dataframe\">\n",
       "  <thead>\n",
       "    <tr style=\"text-align: right;\">\n",
       "      <th></th>\n",
       "      <th>Event</th>\n",
       "      <th>Time</th>\n",
       "      <th>Name</th>\n",
       "      <th>Speed</th>\n",
       "      <th>Heading</th>\n",
       "      <th>PositionLatitude</th>\n",
       "      <th>PositionLongitude</th>\n",
       "      <th>PositionAltitude</th>\n",
       "      <th>DistanceDriven</th>\n",
       "      <th>LongitudinalAcceleration</th>\n",
       "      <th>...</th>\n",
       "      <th>VehicleConsumptionsCurrentConsumptionsFuel</th>\n",
       "      <th>VehicleEmissionsAllEmissionsCo2</th>\n",
       "      <th>VehicleEmissionsAllEmissionsCo</th>\n",
       "      <th>VehicleEmissionsAllEmissionsHc</th>\n",
       "      <th>VehicleEmissionsAllEmissionsPmx</th>\n",
       "      <th>VehicleEmissionsAllEmissionsNox</th>\n",
       "      <th>VehicleConsumptionsAllConsumptionsFuel</th>\n",
       "      <th>VehicleSignalsBlinkerRight</th>\n",
       "      <th>VehicleSignalsBlinkerLeft</th>\n",
       "      <th>VehicleSignalsBrakeLight</th>\n",
       "    </tr>\n",
       "  </thead>\n",
       "  <tbody>\n",
       "    <tr>\n",
       "      <th>50</th>\n",
       "      <td>VEHICLE_UPDATES</td>\n",
       "      <td>7000000000</td>\n",
       "      <td>veh_0</td>\n",
       "      <td>34.82466244661715</td>\n",
       "      <td>186.33265938410221</td>\n",
       "      <td>52.6560022198442</td>\n",
       "      <td>13.569067123065468</td>\n",
       "      <td>0.0</td>\n",
       "      <td>34.82466244661714</td>\n",
       "      <td>-1.2853375533828526</td>\n",
       "      <td>...</td>\n",
       "      <td>0.0</td>\n",
       "      <td>0.0</td>\n",
       "      <td>0.0</td>\n",
       "      <td>0.0</td>\n",
       "      <td>0.0</td>\n",
       "      <td>0.0</td>\n",
       "      <td>0.0</td>\n",
       "      <td>False</td>\n",
       "      <td>False</td>\n",
       "      <td>False</td>\n",
       "    </tr>\n",
       "    <tr>\n",
       "      <th>52</th>\n",
       "      <td>VEHICLE_UPDATES</td>\n",
       "      <td>8000000000</td>\n",
       "      <td>veh_0</td>\n",
       "      <td>35.08759377758484</td>\n",
       "      <td>186.33265938410452</td>\n",
       "      <td>52.65568818530395</td>\n",
       "      <td>13.569020171533026</td>\n",
       "      <td>0.0</td>\n",
       "      <td>69.91225622420188</td>\n",
       "      <td>0.26293133096769594</td>\n",
       "      <td>...</td>\n",
       "      <td>0.0</td>\n",
       "      <td>0.0</td>\n",
       "      <td>0.0</td>\n",
       "      <td>0.0</td>\n",
       "      <td>0.0</td>\n",
       "      <td>0.0</td>\n",
       "      <td>0.0</td>\n",
       "      <td>False</td>\n",
       "      <td>False</td>\n",
       "      <td>False</td>\n",
       "    </tr>\n",
       "    <tr>\n",
       "      <th>54</th>\n",
       "      <td>VEHICLE_UPDATES</td>\n",
       "      <td>9000000000</td>\n",
       "      <td>veh_0</td>\n",
       "      <td>35.867793266722</td>\n",
       "      <td>186.33265938410452</td>\n",
       "      <td>52.65536716793438</td>\n",
       "      <td>13.568972176649016</td>\n",
       "      <td>0.0</td>\n",
       "      <td>105.78004949092383</td>\n",
       "      <td>0.7801994891371606</td>\n",
       "      <td>...</td>\n",
       "      <td>0.0</td>\n",
       "      <td>0.0</td>\n",
       "      <td>0.0</td>\n",
       "      <td>0.0</td>\n",
       "      <td>0.0</td>\n",
       "      <td>0.0</td>\n",
       "      <td>0.0</td>\n",
       "      <td>False</td>\n",
       "      <td>False</td>\n",
       "      <td>False</td>\n",
       "    </tr>\n",
       "    <tr>\n",
       "      <th>57</th>\n",
       "      <td>VEHICLE_UPDATES</td>\n",
       "      <td>10000000000</td>\n",
       "      <td>veh_0</td>\n",
       "      <td>35.43930978522636</td>\n",
       "      <td>186.33265938410221</td>\n",
       "      <td>52.65504998546848</td>\n",
       "      <td>13.568924755768087</td>\n",
       "      <td>0.0</td>\n",
       "      <td>141.21935927615027</td>\n",
       "      <td>-0.42848348149564686</td>\n",
       "      <td>...</td>\n",
       "      <td>0.0</td>\n",
       "      <td>0.0</td>\n",
       "      <td>0.0</td>\n",
       "      <td>0.0</td>\n",
       "      <td>0.0</td>\n",
       "      <td>0.0</td>\n",
       "      <td>0.0</td>\n",
       "      <td>False</td>\n",
       "      <td>False</td>\n",
       "      <td>False</td>\n",
       "    </tr>\n",
       "    <tr>\n",
       "      <th>62</th>\n",
       "      <td>VEHICLE_UPDATES</td>\n",
       "      <td>11000000000</td>\n",
       "      <td>veh_0</td>\n",
       "      <td>35.99817710604053</td>\n",
       "      <td>186.33265938410452</td>\n",
       "      <td>52.6547278010985</td>\n",
       "      <td>13.56887658773249</td>\n",
       "      <td>0.0</td>\n",
       "      <td>177.2175363821907</td>\n",
       "      <td>0.5588673208141728</td>\n",
       "      <td>...</td>\n",
       "      <td>0.0</td>\n",
       "      <td>0.0</td>\n",
       "      <td>0.0</td>\n",
       "      <td>0.0</td>\n",
       "      <td>0.0</td>\n",
       "      <td>0.0</td>\n",
       "      <td>0.0</td>\n",
       "      <td>False</td>\n",
       "      <td>False</td>\n",
       "      <td>False</td>\n",
       "    </tr>\n",
       "    <tr>\n",
       "      <th>...</th>\n",
       "      <td>...</td>\n",
       "      <td>...</td>\n",
       "      <td>...</td>\n",
       "      <td>...</td>\n",
       "      <td>...</td>\n",
       "      <td>...</td>\n",
       "      <td>...</td>\n",
       "      <td>...</td>\n",
       "      <td>...</td>\n",
       "      <td>...</td>\n",
       "      <td>...</td>\n",
       "      <td>...</td>\n",
       "      <td>...</td>\n",
       "      <td>...</td>\n",
       "      <td>...</td>\n",
       "      <td>...</td>\n",
       "      <td>...</td>\n",
       "      <td>...</td>\n",
       "      <td>...</td>\n",
       "      <td>...</td>\n",
       "      <td>...</td>\n",
       "    </tr>\n",
       "    <tr>\n",
       "      <th>53592</th>\n",
       "      <td>VEHICLE_UPDATES</td>\n",
       "      <td>403000000000</td>\n",
       "      <td>veh_0</td>\n",
       "      <td>19.312721</td>\n",
       "      <td>219.6611188072729</td>\n",
       "      <td>52.610092</td>\n",
       "      <td>13.531815</td>\n",
       "      <td>0.0</td>\n",
       "      <td>6811.540517566441</td>\n",
       "      <td>0.4469640471972518</td>\n",
       "      <td>...</td>\n",
       "      <td>0.0</td>\n",
       "      <td>0.0</td>\n",
       "      <td>0.0</td>\n",
       "      <td>0.0</td>\n",
       "      <td>0.0</td>\n",
       "      <td>0.0</td>\n",
       "      <td>0.0</td>\n",
       "      <td>False</td>\n",
       "      <td>False</td>\n",
       "      <td>False</td>\n",
       "    </tr>\n",
       "    <tr>\n",
       "      <th>53740</th>\n",
       "      <td>VEHICLE_UPDATES</td>\n",
       "      <td>404000000000</td>\n",
       "      <td>veh_0</td>\n",
       "      <td>18.345152</td>\n",
       "      <td>219.66111880727624</td>\n",
       "      <td>52.609963</td>\n",
       "      <td>13.531647</td>\n",
       "      <td>0.0</td>\n",
       "      <td>6829.885669505251</td>\n",
       "      <td>-0.9675695365993278</td>\n",
       "      <td>...</td>\n",
       "      <td>0.0</td>\n",
       "      <td>0.0</td>\n",
       "      <td>0.0</td>\n",
       "      <td>0.0</td>\n",
       "      <td>0.0</td>\n",
       "      <td>0.0</td>\n",
       "      <td>0.0</td>\n",
       "      <td>False</td>\n",
       "      <td>False</td>\n",
       "      <td>False</td>\n",
       "    </tr>\n",
       "    <tr>\n",
       "      <th>53889</th>\n",
       "      <td>VEHICLE_UPDATES</td>\n",
       "      <td>405000000000</td>\n",
       "      <td>veh_0</td>\n",
       "      <td>18.570368</td>\n",
       "      <td>219.66111880727624</td>\n",
       "      <td>52.609832</td>\n",
       "      <td>13.531476</td>\n",
       "      <td>0.0</td>\n",
       "      <td>6848.456037783473</td>\n",
       "      <td>0.22521633941214247</td>\n",
       "      <td>...</td>\n",
       "      <td>0.0</td>\n",
       "      <td>0.0</td>\n",
       "      <td>0.0</td>\n",
       "      <td>0.0</td>\n",
       "      <td>0.0</td>\n",
       "      <td>0.0</td>\n",
       "      <td>0.0</td>\n",
       "      <td>False</td>\n",
       "      <td>False</td>\n",
       "      <td>False</td>\n",
       "    </tr>\n",
       "    <tr>\n",
       "      <th>54037</th>\n",
       "      <td>VEHICLE_UPDATES</td>\n",
       "      <td>406000000000</td>\n",
       "      <td>veh_0</td>\n",
       "      <td>19.273827</td>\n",
       "      <td>219.66111880727624</td>\n",
       "      <td>52.609697</td>\n",
       "      <td>13.531299</td>\n",
       "      <td>0.0</td>\n",
       "      <td>6867.729865048778</td>\n",
       "      <td>0.7034589870832875</td>\n",
       "      <td>...</td>\n",
       "      <td>0.0</td>\n",
       "      <td>0.0</td>\n",
       "      <td>0.0</td>\n",
       "      <td>0.0</td>\n",
       "      <td>0.0</td>\n",
       "      <td>0.0</td>\n",
       "      <td>0.0</td>\n",
       "      <td>False</td>\n",
       "      <td>False</td>\n",
       "      <td>False</td>\n",
       "    </tr>\n",
       "    <tr>\n",
       "      <th>54186</th>\n",
       "      <td>VEHICLE_UPDATES</td>\n",
       "      <td>407000000000</td>\n",
       "      <td>veh_0</td>\n",
       "      <td>18.621665</td>\n",
       "      <td>219.66111880727624</td>\n",
       "      <td>52.609566</td>\n",
       "      <td>13.531128</td>\n",
       "      <td>0.0</td>\n",
       "      <td>6886.351530132777</td>\n",
       "      <td>-0.652162181306629</td>\n",
       "      <td>...</td>\n",
       "      <td>0.0</td>\n",
       "      <td>0.0</td>\n",
       "      <td>0.0</td>\n",
       "      <td>0.0</td>\n",
       "      <td>0.0</td>\n",
       "      <td>0.0</td>\n",
       "      <td>0.0</td>\n",
       "      <td>False</td>\n",
       "      <td>False</td>\n",
       "      <td>False</td>\n",
       "    </tr>\n",
       "  </tbody>\n",
       "</table>\n",
       "<p>401 rows × 30 columns</p>\n",
       "</div>"
      ],
      "text/plain": [
       "                 Event          Time   Name              Speed  \\\n",
       "50     VEHICLE_UPDATES    7000000000  veh_0  34.82466244661715   \n",
       "52     VEHICLE_UPDATES    8000000000  veh_0  35.08759377758484   \n",
       "54     VEHICLE_UPDATES    9000000000  veh_0    35.867793266722   \n",
       "57     VEHICLE_UPDATES   10000000000  veh_0  35.43930978522636   \n",
       "62     VEHICLE_UPDATES   11000000000  veh_0  35.99817710604053   \n",
       "...                ...           ...    ...                ...   \n",
       "53592  VEHICLE_UPDATES  403000000000  veh_0          19.312721   \n",
       "53740  VEHICLE_UPDATES  404000000000  veh_0          18.345152   \n",
       "53889  VEHICLE_UPDATES  405000000000  veh_0          18.570368   \n",
       "54037  VEHICLE_UPDATES  406000000000  veh_0          19.273827   \n",
       "54186  VEHICLE_UPDATES  407000000000  veh_0          18.621665   \n",
       "\n",
       "                  Heading   PositionLatitude   PositionLongitude  \\\n",
       "50     186.33265938410221   52.6560022198442  13.569067123065468   \n",
       "52     186.33265938410452  52.65568818530395  13.569020171533026   \n",
       "54     186.33265938410452  52.65536716793438  13.568972176649016   \n",
       "57     186.33265938410221  52.65504998546848  13.568924755768087   \n",
       "62     186.33265938410452   52.6547278010985   13.56887658773249   \n",
       "...                   ...                ...                 ...   \n",
       "53592   219.6611188072729          52.610092           13.531815   \n",
       "53740  219.66111880727624          52.609963           13.531647   \n",
       "53889  219.66111880727624          52.609832           13.531476   \n",
       "54037  219.66111880727624          52.609697           13.531299   \n",
       "54186  219.66111880727624          52.609566           13.531128   \n",
       "\n",
       "      PositionAltitude      DistanceDriven LongitudinalAcceleration  ...  \\\n",
       "50                 0.0   34.82466244661714      -1.2853375533828526  ...   \n",
       "52                 0.0   69.91225622420188      0.26293133096769594  ...   \n",
       "54                 0.0  105.78004949092383       0.7801994891371606  ...   \n",
       "57                 0.0  141.21935927615027     -0.42848348149564686  ...   \n",
       "62                 0.0   177.2175363821907       0.5588673208141728  ...   \n",
       "...                ...                 ...                      ...  ...   \n",
       "53592              0.0   6811.540517566441       0.4469640471972518  ...   \n",
       "53740              0.0   6829.885669505251      -0.9675695365993278  ...   \n",
       "53889              0.0   6848.456037783473      0.22521633941214247  ...   \n",
       "54037              0.0   6867.729865048778       0.7034589870832875  ...   \n",
       "54186              0.0   6886.351530132777       -0.652162181306629  ...   \n",
       "\n",
       "      VehicleConsumptionsCurrentConsumptionsFuel  \\\n",
       "50                                           0.0   \n",
       "52                                           0.0   \n",
       "54                                           0.0   \n",
       "57                                           0.0   \n",
       "62                                           0.0   \n",
       "...                                          ...   \n",
       "53592                                        0.0   \n",
       "53740                                        0.0   \n",
       "53889                                        0.0   \n",
       "54037                                        0.0   \n",
       "54186                                        0.0   \n",
       "\n",
       "      VehicleEmissionsAllEmissionsCo2  VehicleEmissionsAllEmissionsCo  \\\n",
       "50                                0.0                             0.0   \n",
       "52                                0.0                             0.0   \n",
       "54                                0.0                             0.0   \n",
       "57                                0.0                             0.0   \n",
       "62                                0.0                             0.0   \n",
       "...                               ...                             ...   \n",
       "53592                             0.0                             0.0   \n",
       "53740                             0.0                             0.0   \n",
       "53889                             0.0                             0.0   \n",
       "54037                             0.0                             0.0   \n",
       "54186                             0.0                             0.0   \n",
       "\n",
       "      VehicleEmissionsAllEmissionsHc  VehicleEmissionsAllEmissionsPmx  \\\n",
       "50                               0.0                              0.0   \n",
       "52                               0.0                              0.0   \n",
       "54                               0.0                              0.0   \n",
       "57                               0.0                              0.0   \n",
       "62                               0.0                              0.0   \n",
       "...                              ...                              ...   \n",
       "53592                            0.0                              0.0   \n",
       "53740                            0.0                              0.0   \n",
       "53889                            0.0                              0.0   \n",
       "54037                            0.0                              0.0   \n",
       "54186                            0.0                              0.0   \n",
       "\n",
       "       VehicleEmissionsAllEmissionsNox  \\\n",
       "50                                 0.0   \n",
       "52                                 0.0   \n",
       "54                                 0.0   \n",
       "57                                 0.0   \n",
       "62                                 0.0   \n",
       "...                                ...   \n",
       "53592                              0.0   \n",
       "53740                              0.0   \n",
       "53889                              0.0   \n",
       "54037                              0.0   \n",
       "54186                              0.0   \n",
       "\n",
       "       VehicleConsumptionsAllConsumptionsFuel  VehicleSignalsBlinkerRight  \\\n",
       "50                                        0.0                       False   \n",
       "52                                        0.0                       False   \n",
       "54                                        0.0                       False   \n",
       "57                                        0.0                       False   \n",
       "62                                        0.0                       False   \n",
       "...                                       ...                         ...   \n",
       "53592                                     0.0                       False   \n",
       "53740                                     0.0                       False   \n",
       "53889                                     0.0                       False   \n",
       "54037                                     0.0                       False   \n",
       "54186                                     0.0                       False   \n",
       "\n",
       "       VehicleSignalsBlinkerLeft  VehicleSignalsBrakeLight  \n",
       "50                         False                     False  \n",
       "52                         False                     False  \n",
       "54                         False                     False  \n",
       "57                         False                     False  \n",
       "62                         False                     False  \n",
       "...                          ...                       ...  \n",
       "53592                      False                     False  \n",
       "53740                      False                     False  \n",
       "53889                      False                     False  \n",
       "54037                      False                     False  \n",
       "54186                      False                     False  \n",
       "\n",
       "[401 rows x 30 columns]"
      ]
     },
     "execution_count": 9,
     "metadata": {},
     "output_type": "execute_result"
    }
   ],
   "source": [
    "veh0"
   ]
  },
  {
   "cell_type": "code",
   "execution_count": 47,
   "metadata": {},
   "outputs": [
    {
     "name": "stderr",
     "output_type": "stream",
     "text": [
      "/usr/local/lib/python3.8/site-packages/IPython/core/interactiveshell.py:3418: DtypeWarning: Columns (3,5,6,7) have mixed types.Specify dtype option on import or set low_memory=False.\n",
      "  exec(code_obj, self.user_global_ns, self.user_ns)\n"
     ]
    },
    {
     "data": {
      "text/html": [
       "<div>\n",
       "<style scoped>\n",
       "    .dataframe tbody tr th:only-of-type {\n",
       "        vertical-align: middle;\n",
       "    }\n",
       "\n",
       "    .dataframe tbody tr th {\n",
       "        vertical-align: top;\n",
       "    }\n",
       "\n",
       "    .dataframe thead th {\n",
       "        text-align: right;\n",
       "    }\n",
       "</style>\n",
       "<table border=\"1\" class=\"dataframe\">\n",
       "  <thead>\n",
       "    <tr style=\"text-align: right;\">\n",
       "      <th></th>\n",
       "      <th></th>\n",
       "      <th>Event</th>\n",
       "      <th>Time</th>\n",
       "      <th>Type</th>\n",
       "      <th>MessageId</th>\n",
       "      <th>ReceiverName</th>\n",
       "      <th>ReceiverInformationReceiveSignalStrength</th>\n",
       "    </tr>\n",
       "  </thead>\n",
       "  <tbody>\n",
       "  </tbody>\n",
       "</table>\n",
       "</div>"
      ],
      "text/plain": [
       "Empty DataFrame\n",
       "Columns: [Event, Time, Type, MessageId, ReceiverName, ReceiverInformationReceiveSignalStrength]\n",
       "Index: []"
      ]
     },
     "execution_count": 47,
     "metadata": {},
     "output_type": "execute_result"
    }
   ],
   "source": [
    "mosaic.filter_df(Event='V2X_MESSAGE_RECEPTION', select='all')"
   ]
  },
  {
   "cell_type": "markdown",
   "metadata": {},
   "source": [
    "Our filtered variables `veh0`, `veh1`, `veh2` and `veh3` are still DataFrames, which means we can easily access the fields as if we would access the methods of an object:\n",
    "\n",
    "`veh0.Time` is the sampling instants, `veh1.Speed` is the speed of the vehicle 1, etc.\n",
    "\n",
    "Lets plot the speeds and the sampled GPS locations of our four vehicles!"
   ]
  },
  {
   "cell_type": "code",
   "execution_count": 22,
   "metadata": {},
   "outputs": [
    {
     "data": {
      "text/plain": [
       "<matplotlib.legend.Legend at 0x12a87a550>"
      ]
     },
     "execution_count": 22,
     "metadata": {},
     "output_type": "execute_result"
    },
    {
     "data": {
      "image/png": "[encoded data removed]",
      "text/plain": [
       "<Figure size 1080x360 with 1 Axes>"
      ]
     },
     "metadata": {},
     "output_type": "display_data"
    }
   ],
   "source": [
    "plt.plot(veh0.Time, veh0.Speed.astype(float), label='veh0')\n",
    "plt.plot(veh1.Time, veh1.Speed.astype(float), label='veh1')\n",
    "plt.plot(veh2.Time, veh2.Speed.astype(float), label='veh2')\n",
    "plt.plot(veh3.Time, veh3.Speed.astype(float), label='veh3')\n",
    "plt.title('Speed of Vehicle 0-1-2-3')\n",
    "plt.legend()"
   ]
  },
  {
   "cell_type": "code",
   "execution_count": 29,
   "metadata": {},
   "outputs": [
    {
     "data": {
      "text/plain": [
       "<matplotlib.legend.Legend at 0x12b644e80>"
      ]
     },
     "execution_count": 29,
     "metadata": {},
     "output_type": "execute_result"
    },
    {
     "data": {
      "image/png": "[encoded data removed]",
      "text/plain": [
       "<Figure size 1080x360 with 1 Axes>"
      ]
     },
     "metadata": {},
     "output_type": "display_data"
    }
   ],
   "source": [
    "plt.figure()\n",
    "plt.scatter(np.asfarray(veh0.PositionLongitude),\n",
    "            np.asfarray(veh0.PositionLatitude),\n",
    "            linewidths=0.5,\n",
    "            label='veh0')\n",
    "plt.scatter(np.asfarray(veh1.PositionLongitude),\n",
    "            np.asfarray(veh1.PositionLatitude),\n",
    "            linewidths=0.5,\n",
    "            label='veh1')\n",
    "plt.scatter(veh2.PositionLongitude.astype(float),\n",
    "            veh2.PositionLatitude.astype(float),\n",
    "            linewidths=0.5,\n",
    "            label='veh2')\n",
    "plt.scatter(veh3.PositionLongitude.astype(float),\n",
    "            veh3.PositionLatitude.astype(float),\n",
    "            linewidths=0.5,\n",
    "            label='veh3')\n",
    "plt.title('Road Travelled - Vehicle 0-1-2-3')\n",
    "plt.legend()"
   ]
  },
  {
   "cell_type": "markdown",
   "metadata": {},
   "source": [
    "Note that for the plotting of the GPS coordinates, a type conversion is necessary. The coordinates are read as type `object` but need to be of type `float` to be properly plotted. You can achieve this by either calling the method `.astype(float)` (see veh2 & 3 above) or wrapping the data in `np.asfarray()` (see veh0 & 1) to convert them to a numpy array."
   ]
  },
  {
   "cell_type": "markdown",
   "metadata": {},
   "source": [
    "### Configuring the Federates\n",
    "\n",
    "Eclipse MOSAIC is designed to be extendable using the concept of federates. This will be explained more in detail during the workshop lecture, but simply put, the federates communicate with the main application and affect the behaviour of the vehicles.\n",
    "\n",
    "Some examples of federates are `cell`, `ns3`, `omnetpp`, `environment`, `application`, `sns` and `sumo`, among others.\n",
    "\n",
    "Federates are configured using JSON files, which you can very well just edit using any text editor without much hassle. However, we implemented an interface which can be programmatically used to edit and configure the federates.\n",
    "\n",
    "Hint: It is highly recommended to backup the whole simulation folder before you play with any federate configurations, since it is really easy to type an invalid value and lose track of what you have done. In the worst case scenario, you can restore the simulation easily and start over.\n",
    "\n",
    "There are two calls and two main methods: `get_federates`, `pprint_curr_fed`, `retrieve_federate(federate, idx)` and `set_federate_value(tree, value)`"
   ]
  },
  {
   "cell_type": "code",
   "execution_count": 30,
   "metadata": {},
   "outputs": [
    {
     "name": "stdout",
     "output_type": "stream",
     "text": [
      "Available federates: ['application', 'cell', 'environment', 'mapping', 'ns3', 'output', 'scenario_config.json', 'sns', 'sumo']\n"
     ]
    }
   ],
   "source": [
    "mosaic.get_federates"
   ]
  },
  {
   "cell_type": "markdown",
   "metadata": {},
   "source": [
    "`get_federates` returns a list of all available federates, including `scenario_config.json`. The latter JSON file is not exactly a federate, but still, it is a json file which can be configured with our method.\n",
    "\n",
    "`retrieve_federate(federate, idx)` is a method which allows you to explore the federate folder, if idx is None, or it retrieves the federate configuration and load it up.\n",
    "\n",
    "Lets explore `cell` federate:"
   ]
  },
  {
   "cell_type": "code",
   "execution_count": 31,
   "metadata": {},
   "outputs": [
    {
     "name": "stdout",
     "output_type": "stream",
     "text": [
      "['cell_config.json', 'network.json', 'regions.json']\n"
     ]
    },
    {
     "data": {
      "text/plain": [
       "['cell_config.json', 'network.json', 'regions.json']"
      ]
     },
     "execution_count": 31,
     "metadata": {},
     "output_type": "execute_result"
    }
   ],
   "source": [
    "mosaic.retrieve_federate('cell')"
   ]
  },
  {
   "cell_type": "markdown",
   "metadata": {},
   "source": [
    "From previous experience, I know that `network.json` is the configuration for the cellular network, so lets retrieve that using `idx=1`"
   ]
  },
  {
   "cell_type": "code",
   "execution_count": 32,
   "metadata": {},
   "outputs": [
    {
     "data": {
      "text/plain": [
       "'/Users/wiesner/Dev/eclipse-mosaic/scenarios/Barnim/cell/network.json'"
      ]
     },
     "execution_count": 32,
     "metadata": {},
     "output_type": "execute_result"
    }
   ],
   "source": [
    "mosaic.retrieve_federate('cell', idx=1)"
   ]
  },
  {
   "cell_type": "markdown",
   "metadata": {},
   "source": [
    "The full path of the retrieved federate is displayed and loaded in the background. Now you can explore the federate configuration using `pprint_curr_fed`"
   ]
  },
  {
   "cell_type": "code",
   "execution_count": 33,
   "metadata": {},
   "outputs": [
    {
     "name": "stdout",
     "output_type": "stream",
     "text": [
      "Current federate: network.json\n",
      "{\n",
      "    \"globalNetwork\": {\n",
      "        \"downlink\": {\n",
      "            \"capacity\": 42200000,\n",
      "            \"multicast\": {\n",
      "                \"delay\": {\n",
      "                    \"delay\": \"100 ms\",\n",
      "                    \"type\": \"ConstantDelay\"\n",
      "                },\n",
      "                \"transmission\": {\n",
      "                    \"lossProbability\": 0.0\n",
      "                },\n",
      "                \"usableCapacity\": 0.6\n",
      "            },\n",
      "            \"unicast\": {\n",
      "                \"delay\": {\n",
      "                    \"delay\": \"100 ms\",\n",
      "                    \"type\": \"ConstantDelay\"\n",
      "                },\n",
      "                \"transmission\": {\n",
      "                    \"lossProbability\": 0.0,\n",
      "                    \"maxRetries\": 2\n",
      "                }\n",
      "            }\n",
      "        },\n",
      "        \"uplink\": {\n",
      "            \"capacity\": 28000000,\n",
      "            \"delay\": {\n",
      "                \"delay\": \"100 ms\",\n",
      "                \"type\": \"ConstantDelay\"\n",
      "            },\n",
      "            \"transmission\": {\n",
      "                \"lossProbability\": 0.0,\n",
      "                \"maxRetries\": 2\n",
      "            }\n",
      "        }\n",
      "    }\n",
      "}\n"
     ]
    }
   ],
   "source": [
    "mosaic.pprint_curr_fed"
   ]
  },
  {
   "cell_type": "markdown",
   "metadata": {},
   "source": [
    "A JSON file, for all intents and purposes, acts like a dictionary when loaded in Python.\n",
    "\n",
    "Using the method `set_federate_value(tree, value)` will set the selected key to the desired value.\n",
    "\n",
    "The tree is seperated using dot (`.`) as we descend further down the line, for example `\"globalNetwork.uplink.delay.expDelay\"`\n",
    "\n",
    "Depending on the tree structure within the json file, the syntax could differ, i.e. `spec = ('events', ['location.area.a'])`.\n",
    "\n",
    "The current value of `\"globalNetwork.uplink.delay.expDelay\"` is `\"150 ms\"`. Notice the quotes and make sure you abide by the type of the existing value.\n",
    "\n",
    "Lets set this key to `\"250 ms\"`."
   ]
  },
  {
   "cell_type": "code",
   "execution_count": 34,
   "metadata": {},
   "outputs": [
    {
     "name": "stdout",
     "output_type": "stream",
     "text": [
      "Federate value of globalNetwork.uplink.delay.expDelay set to 250 ms\n"
     ]
    }
   ],
   "source": [
    "mosaic.set_federate_value('globalNetwork.uplink.delay.expDelay', '250 ms')"
   ]
  },
  {
   "cell_type": "markdown",
   "metadata": {},
   "source": [
    "And print our new federate configuration once again to validate the change."
   ]
  },
  {
   "cell_type": "code",
   "execution_count": 35,
   "metadata": {},
   "outputs": [
    {
     "name": "stdout",
     "output_type": "stream",
     "text": [
      "Current federate: network.json\n",
      "{\n",
      "    \"globalNetwork\": {\n",
      "        \"downlink\": {\n",
      "            \"capacity\": 42200000,\n",
      "            \"multicast\": {\n",
      "                \"delay\": {\n",
      "                    \"delay\": \"100 ms\",\n",
      "                    \"type\": \"ConstantDelay\"\n",
      "                },\n",
      "                \"transmission\": {\n",
      "                    \"lossProbability\": 0.0\n",
      "                },\n",
      "                \"usableCapacity\": 0.6\n",
      "            },\n",
      "            \"unicast\": {\n",
      "                \"delay\": {\n",
      "                    \"delay\": \"100 ms\",\n",
      "                    \"type\": \"ConstantDelay\"\n",
      "                },\n",
      "                \"transmission\": {\n",
      "                    \"lossProbability\": 0.0,\n",
      "                    \"maxRetries\": 2\n",
      "                }\n",
      "            }\n",
      "        },\n",
      "        \"uplink\": {\n",
      "            \"capacity\": 28000000,\n",
      "            \"delay\": {\n",
      "                \"delay\": \"100 ms\",\n",
      "                \"expDelay\": \"250 ms\",\n",
      "                \"type\": \"ConstantDelay\"\n",
      "            },\n",
      "            \"transmission\": {\n",
      "                \"lossProbability\": 0.0,\n",
      "                \"maxRetries\": 2\n",
      "            }\n",
      "        }\n",
      "    }\n",
      "}\n"
     ]
    }
   ],
   "source": [
    "mosaic.pprint_curr_fed"
   ]
  },
  {
   "cell_type": "markdown",
   "metadata": {},
   "source": [
    "The new value of `\"globalNetwork.uplink.delay.expDelay\"` is `\"250 ms\"`.\n",
    "\n",
    "Make sure to run the simulation again to observe what kind of changes happen."
   ]
  },
  {
   "cell_type": "code",
   "execution_count": 36,
   "metadata": {},
   "outputs": [
    {
     "name": "stdout",
     "output_type": "stream",
     "text": [
      "Running: ./mosaic.sh -s Barnim -v\n",
      "2021-06-30 18:37:19,560 INFO  ROOT - Running Eclipse MOSAIC 21.0 on Java JRE v11.0.9 (Amazon.com Inc.)\n",
      "2021-06-30 18:37:19,919 INFO  FederationManagement - Start federation with id 'Barnim'\n",
      "2021-06-30 18:37:19,921 INFO  FederationManagement - Add ambassador/federate with id 'application'\n",
      "2021-06-30 18:37:19,923 INFO  FederationManagement - Add ambassador/federate with id 'environment'\n",
      "2021-06-30 18:37:19,923 INFO  FederationManagement - Add ambassador/federate with id 'mapping'\n",
      "2021-06-30 18:37:19,924 INFO  FederationManagement - Add ambassador/federate with id 'sns'\n",
      "2021-06-30 18:37:19,924 INFO  FederationManagement - Add ambassador/federate with id 'sumo'\n",
      "2021-06-30 18:37:19,924 INFO  FederationManagement - Deploying federate 'sumo' locally in ./tmp/sumo\n",
      "2021-06-30 18:37:20,003 INFO  FederationManagement - Starting federate 'sumo' locally in ./tmp/sumo\n",
      "2021-06-30 18:37:20,005 INFO  FederationManagement - Add ambassador/federate with id 'output'\n",
      "18:37:31 - Simulating: 1000000000000ns (1000.0s) - 100.0%                                                       \n",
      "18:37:31 - Duration: 00h 00m 09.090s (RTF: 110.00)\n",
      "18:37:31 - Simulation finished: 101\n",
      "\n",
      "\n",
      "\n",
      "Loading latest simulation result 'log-20210630-183719-Barnim'\n",
      "zsh:1: command not found: None\n"
     ]
    }
   ],
   "source": [
    "!{mosaic.run_simulation(jupyter=True)}"
   ]
  },
  {
   "cell_type": "markdown",
   "metadata": {},
   "source": [
    "Thank you for following the introduction and don't forget to play with the tool a little bit more to get used to it. \n",
    "\n",
    "Don't forget to report any problems or bugs you might find! We'd be happy to work on it with you!\n",
    "\n",
    "**See you in the workshop!**"
   ]
  }
 ],
 "metadata": {
  "kernelspec": {
   "display_name": "Python 3",
   "language": "python",
   "name": "python3"
  },
  "language_info": {
   "codemirror_mode": {
    "name": "ipython",
    "version": 3
   },
   "file_extension": ".py",
   "mimetype": "text/x-python",
   "name": "python",
   "nbconvert_exporter": "python",
   "pygments_lexer": "ipython3",
   "version": "3.8.6"
  }
 },
 "nbformat": 4,
 "nbformat_minor": 4
}
